{
  "nbformat": 4,
  "nbformat_minor": 0,
  "metadata": {
    "colab": {
      "name": "AdventofCode2020-1.ipynb",
      "private_outputs": true,
      "provenance": [],
      "collapsed_sections": [],
      "authorship_tag": "ABX9TyNkJmsRHVToMa97ePEzZgLH",
      "include_colab_link": true
    },
    "kernelspec": {
      "name": "python3",
      "display_name": "Python 3"
    }
  },
  "cells": [
    {
      "cell_type": "markdown",
      "metadata": {
        "id": "view-in-github",
        "colab_type": "text"
      },
      "source": [
        "<a href=\"https://colab.research.google.com/github/lweislo/symmetrical-adventure/blob/main/AdventofCode2020_1.ipynb\" target=\"_parent\"><img src=\"https://colab.research.google.com/assets/colab-badge.svg\" alt=\"Open In Colab\"/></a>"
      ]
    },
    {
      "cell_type": "markdown",
      "metadata": {
        "id": "Yf2NU5WmR2pk"
      },
      "source": [
        "**Advent of Code 2000**\n",
        "[Day 1](https://adventofcode.com/2020/day/2)"
      ]
    },
    {
      "cell_type": "code",
      "metadata": {
        "id": "GKE54fCzOSgM"
      },
      "source": [
        "import numpy as np"
      ],
      "execution_count": null,
      "outputs": []
    },
    {
      "cell_type": "code",
      "metadata": {
        "id": "hF39yxa3OvpR"
      },
      "source": [
        "def find2020(expense, n, sum):\n",
        "\n",
        "    for item in range(0, n): \n",
        "        for next_item in range(item + 1, n): \n",
        "            if expense[item] + expense[next_item] == sum:\n",
        "                print(f'Sum of 2020 found with {expense[item]} + {expense[next_item]}')\n",
        "                print(f'Multiplied, this equals ' + str(expense[item] * expense[next_item]))\n",
        "      "
      ],
      "execution_count": null,
      "outputs": []
    },
    {
      "cell_type": "code",
      "metadata": {
        "id": "OjCEDsR1P__Z"
      },
      "source": [
        "sum = 2020\n",
        "expenses = np.random.randint(1, 2019, 100)\n",
        "n = len(expenses)"
      ],
      "execution_count": null,
      "outputs": []
    },
    {
      "cell_type": "code",
      "metadata": {
        "id": "_lunWFvcQZws"
      },
      "source": [
        "find2020(expenses, n, sum)"
      ],
      "execution_count": null,
      "outputs": []
    },
    {
      "cell_type": "markdown",
      "metadata": {
        "id": "m3S-sznqSLKo"
      },
      "source": [
        "**[Day 2](https://adventofcode.com/2020/day/2)**"
      ]
    },
    {
      "cell_type": "code",
      "metadata": {
        "id": "5Wi7tpnMQcy6"
      },
      "source": [
        "# Create a list of random lowercase passwords\n",
        "import string\n",
        "import random\n",
        "\n",
        "letters = string.ascii_lowercase\n",
        "words = []\n",
        "for i in range(50):\n",
        "    words.append(''.join(random.choice(letters) for i in range(random.randint(16,35))))\n",
        "# Create password rules \n",
        "letter = 's'\n",
        "count_low = 0\n",
        "count_high = 3"
      ],
      "execution_count": null,
      "outputs": []
    },
    {
      "cell_type": "code",
      "metadata": {
        "id": "-HX_AgmaQUMq"
      },
      "source": [
        "# Check that the password rule letter falls within the allowable range of occurrances\n",
        "def pwd_validator(letter, words, count_low, count_high):\n",
        "    for item in words:\n",
        "        count = item.count(letter)\n",
        "        if count >= count_low and item.count(letter) <= count_high:\n",
        "            pass\n",
        "        else:\n",
        "            print(f'{item} is an invalid password because it uses {letter} {count} times. {letter} can only be used between {count_low} and {count_high} times.')\n",
        "\n"
      ],
      "execution_count": null,
      "outputs": []
    },
    {
      "cell_type": "code",
      "metadata": {
        "id": "w2c7HXvvRt0u"
      },
      "source": [
        "pwd_validator(letter, words, count_low, count_high)"
      ],
      "execution_count": null,
      "outputs": []
    },
    {
      "cell_type": "markdown",
      "metadata": {
        "id": "HuShbdQLRdfy"
      },
      "source": [
        "[Day 3](https://adventofcode.com/2020/day/3)"
      ]
    },
    {
      "cell_type": "code",
      "metadata": {
        "id": "fnRG2uYRLxb8"
      },
      "source": [
        "# Create a random toboggan course with a 12 by 12 array repeated 10 times. \n",
        "# To use the example with . and #, just convert . to 0 and # to 1.\n",
        "nums = np.random.choice([0, 1], size=144, p=[.6, .4]).reshape(12,12)\n",
        "arr = np.resize(np.arange(0,2), 12*12)\n",
        "np.random.shuffle(arr)\n",
        "arr = arr.reshape(12,12)\n",
        "blocks = np.repeat(arr, 10, axis=1)\n"
      ],
      "execution_count": null,
      "outputs": []
    },
    {
      "cell_type": "code",
      "metadata": {
        "id": "z8rAJHZIOuul"
      },
      "source": [
        "# If 1's are trees and 0's are open slope, how many trees to you encounter moving in a pattern down one, right three?\n",
        "y = 0\n",
        "sum = 0\n",
        "for i in range(0, blocks.shape[0]-1):\n",
        "    x = i + 1\n",
        "    y = y + 3\n",
        "    if blocks[x,y] == 1:\n",
        "        sum += 1\n",
        "print(f'Your toboggan hits {sum} trees')"
      ],
      "execution_count": null,
      "outputs": []
    },
    {
      "cell_type": "markdown",
      "metadata": {
        "id": "TUDIw2hma9X6"
      },
      "source": [
        "**[DAY 4](https://adventofcode.com/2020/day/4)**"
      ]
    },
    {
      "cell_type": "code",
      "metadata": {
        "id": "IBT0ouj4a644"
      },
      "source": [
        "import re\n",
        "from google.colab import files\n",
        "\n",
        "uploaded = files.upload()\n",
        "\n",
        "for fn in uploaded.keys():\n",
        "  print('User uploaded file \"{name}\" with length {length} bytes'.format(\n",
        "      name=fn, length=len(uploaded[fn])))\n",
        "  input=uploaded[fn]"
      ],
      "execution_count": null,
      "outputs": []
    },
    {
      "cell_type": "code",
      "metadata": {
        "id": "qrBT-5YibKKu"
      },
      "source": [
        "input"
      ],
      "execution_count": null,
      "outputs": []
    },
    {
      "cell_type": "code",
      "metadata": {
        "id": "irlLtxrkbVYP"
      },
      "source": [
        "mod_input = str(input).replace('b\\'','').replace('\\'','').replace('\\\\n\\\\n',',').replace('\\\\n',' ').split(',')"
      ],
      "execution_count": null,
      "outputs": []
    },
    {
      "cell_type": "code",
      "metadata": {
        "id": "rZVKBsRbbn3p"
      },
      "source": [
        "mod_input"
      ],
      "execution_count": null,
      "outputs": []
    },
    {
      "cell_type": "code",
      "metadata": {
        "id": "rOkdSp37p1Il"
      },
      "source": [
        "key_dict = {'byr':'Birth Year', 'iyr': 'Issue Year', 'eyr':'Expiration Year', 'hgt': 'Height','hcl': 'Hair Color', \\\n",
        "            'ecl': 'Eye Color', 'pid':'Passport ID', 'cid': 'Country ID'}"
      ],
      "execution_count": null,
      "outputs": []
    },
    {
      "cell_type": "code",
      "metadata": {
        "id": "7NJd_kt8dFuJ"
      },
      "source": [
        "def passport_converter(input):\n",
        "    val_list = []\n",
        "    for i in input:\n",
        "        res = dict(item.split(\":\") for item in i.split(\" \")) \n",
        "        val_list.append(res)\n",
        "    return val_list\n",
        "\n",
        "def passport_validator(val_list):\n",
        "    for i in val_list:\n",
        "        try:\n",
        "            print(\"\\n\\n Validating...\")\n",
        "            print(f\"The passport information: \\\n",
        "            \\n DOB {i['byr']} \\\n",
        "            \\n Issued {i['iyr']} \\\n",
        "            \\n Expires {i['eyr']} \\\n",
        "            \\n Height {i['hgt']} \\\n",
        "            \\n Hair Color {i['hcl']} \\\n",
        "            \\n Eye Color {i['ecl']} \\\n",
        "            \\n Passport ID {i['pid']}\")\n",
        "\n",
        "            if int(i['eyr']) > 2020:\n",
        "                print(\"\\n This passport is valid\")\n",
        "            else:\n",
        "                print(int(i['eyr']))\n",
        "                print(f\"The passport expires in {i['eyr']} - it has expired\")\n",
        "        except KeyError as e:\n",
        "            key = e.args[0]\n",
        "            print(f\"\\n This passport is not valid, it is missing {key_dict[key]}\")\n"
      ],
      "execution_count": null,
      "outputs": []
    },
    {
      "cell_type": "code",
      "metadata": {
        "id": "MZcqgAArePqf"
      },
      "source": [
        "val_list = passport_converter(mod_input)\n",
        "passport_validator(val_list)"
      ],
      "execution_count": null,
      "outputs": []
    },
    {
      "cell_type": "markdown",
      "metadata": {
        "id": "GyevPNog-BlF"
      },
      "source": [
        "**[Day 5](https://adventofcode.com/2020/day/5)**"
      ]
    },
    {
      "cell_type": "code",
      "metadata": {
        "id": "OSKkOBI3-ZaP"
      },
      "source": [
        "# Boarding pass seat finder\n",
        "# F means to take the lower half, keeping rows 0 through 63. (0,64) or (64,128)\n",
        "# B means to take the upper half, keeping rows 32 through 63.\n",
        "# F means to take the lower half, keeping rows 32 through 47. (0, 32) (32, 64) (64, 96), (96, 128)\n",
        "# B means to take the upper half, keeping rows 40 through 47.\n",
        "# B keeps rows 44 through 47.\n",
        "# F keeps rows 44 through 45.\n",
        "# The final F keeps the lower of the two, row 44.\n",
        "# The last three characters will be either L or R; these specify exactly one of the 8 columns of seats on the plane (numbered 0 through 7). The same process as above proceeds again, this time with only three steps. L means to keep the lower half, while R means to keep the upper half.\n",
        "\n",
        "# For example, consider just the last 3 characters of FBFBBFFRLR:\n",
        "\n",
        "# Start by considering the whole range, columns 0 through 7.\n",
        "# R means to take the upper half, keeping columns 4 through 7.\n",
        "# L means to take the lower half, keeping columns 4 through 5.\n",
        "# The final R keeps the upper of the two, column 5."
      ],
      "execution_count": null,
      "outputs": []
    },
    {
      "cell_type": "code",
      "metadata": {
        "id": "xnRVYC6oeSRu"
      },
      "source": [
        "passes = ['BFFFBBFRRR', 'FBFBBFFRLR', 'FFFBBBFRRR', 'BBFFBBFRLL', 'ABCDEFGHIJ']"
      ],
      "execution_count": null,
      "outputs": []
    },
    {
      "cell_type": "code",
      "metadata": {
        "id": "eMo4C1jn-BPr"
      },
      "source": [
        "def boarding(bpass):\n",
        "    row_list = list(range(0,128))\n",
        "    seat_list = list(range(0,8))\n",
        "\n",
        "    for i in range(0, len(bpass)):\n",
        "        if bpass[i] not in ['F','B','L','R']:\n",
        "            print(\"Invalid character detected\")\n",
        "            break\n",
        "        else:\n",
        "            if bpass[i] == 'F':\n",
        "                row_list = row_list[0:(int(len(row_list)/2))]\n",
        "            elif bpass[i] == 'B':\n",
        "                row_list = row_list[int(len(row_list)/2):int(len(row_list))]\n",
        "            elif bpass[i] == 'L':\n",
        "                seat_list = seat_list[0:(int(len(seat_list)/2))]\n",
        "            elif bpass[i] == 'R':\n",
        "                seat_list = seat_list[int(len(seat_list)/2):int(len(seat_list))]\n",
        "            else:\n",
        "                print(\"Ran into a problem\")\n",
        "                break\n",
        "    if len(row_list) == 1 and len(seat_list) == 1:\n",
        "        seat_id = (row_list[0] * 8) + seat_list[0]\n",
        "        print(f\"Your boarding row is {row_list[0]}, your seat is {seat_list[0]} and ID is {seat_id}\")\n",
        "            "
      ],
      "execution_count": null,
      "outputs": []
    },
    {
      "cell_type": "code",
      "metadata": {
        "id": "NHhhhISd-rva"
      },
      "source": [
        "for i in passes:\n",
        "    print(boarding(i))"
      ],
      "execution_count": null,
      "outputs": []
    },
    {
      "cell_type": "code",
      "metadata": {
        "id": "b8wkX7EHPmMG"
      },
      "source": [
        "#Having a problem with this returning \"none\" in each iteration."
      ],
      "execution_count": null,
      "outputs": []
    }
  ]
}