{
  "nbformat": 4,
  "nbformat_minor": 0,
  "metadata": {
    "colab": {
      "name": "AdventofCode2020-1.ipynb",
      "private_outputs": true,
      "provenance": [],
      "collapsed_sections": [],
      "authorship_tag": "ABX9TyNHgKCN+YnIWOdBqkXXhMsu",
      "include_colab_link": true
    },
    "kernelspec": {
      "name": "python3",
      "display_name": "Python 3"
    }
  },
  "cells": [
    {
      "cell_type": "markdown",
      "metadata": {
        "id": "view-in-github",
        "colab_type": "text"
      },
      "source": [
        "<a href=\"https://colab.research.google.com/github/lweislo/symmetrical-adventure/blob/main/AdventofCode2020_1.ipynb\" target=\"_parent\"><img src=\"https://colab.research.google.com/assets/colab-badge.svg\" alt=\"Open In Colab\"/></a>"
      ]
    },
    {
      "cell_type": "markdown",
      "metadata": {
        "id": "Yf2NU5WmR2pk"
      },
      "source": [
        "**Advent of Code 2000**\n",
        "[Day 1](https://adventofcode.com/2020/day/2)"
      ]
    },
    {
      "cell_type": "code",
      "metadata": {
        "id": "GKE54fCzOSgM"
      },
      "source": [
        "import numpy as np"
      ],
      "execution_count": null,
      "outputs": []
    },
    {
      "cell_type": "code",
      "metadata": {
        "id": "hF39yxa3OvpR"
      },
      "source": [
        "def find2020(expense, n, sum):\n",
        "\n",
        "    for item in range(0, n): \n",
        "        for next_item in range(item + 1, n): \n",
        "            if expense[item] + expense[next_item] == sum:\n",
        "                print(f'Sum of 2020 found with {expense[item]} + {expense[next_item]}')\n",
        "                print(f'Multiplied, this equals ' + str(expense[item] * expense[next_item]))\n",
        "      "
      ],
      "execution_count": null,
      "outputs": []
    },
    {
      "cell_type": "code",
      "metadata": {
        "id": "OjCEDsR1P__Z"
      },
      "source": [
        "sum = 2020\n",
        "expenses = np.random.randint(1, 2019, 100)\n",
        "n = len(expenses)"
      ],
      "execution_count": null,
      "outputs": []
    },
    {
      "cell_type": "code",
      "metadata": {
        "id": "_lunWFvcQZws"
      },
      "source": [
        "find2020(expenses, n, sum)"
      ],
      "execution_count": null,
      "outputs": []
    },
    {
      "cell_type": "markdown",
      "metadata": {
        "id": "m3S-sznqSLKo"
      },
      "source": [
        "**[Day 2](https://adventofcode.com/2020/day/2)**"
      ]
    },
    {
      "cell_type": "code",
      "metadata": {
        "id": "5Wi7tpnMQcy6"
      },
      "source": [
        "# Create a list of random lowercase passwords\n",
        "import string\n",
        "import random\n",
        "\n",
        "letters = string.ascii_lowercase\n",
        "words = []\n",
        "for i in range(50):\n",
        "    words.append(''.join(random.choice(letters) for i in range(random.randint(16,35))))\n",
        "# Create password rules \n",
        "letter = 's'\n",
        "count_low = 0\n",
        "count_high = 3"
      ],
      "execution_count": null,
      "outputs": []
    },
    {
      "cell_type": "code",
      "metadata": {
        "id": "-HX_AgmaQUMq"
      },
      "source": [
        "# Check that the password rule letter falls within the allowable range of occurrances\n",
        "def pwd_validator(letter, words, count_low, count_high):\n",
        "    for item in words:\n",
        "        count = item.count(letter)\n",
        "        if count >= count_low and item.count(letter) <= count_high:\n",
        "            pass\n",
        "        else:\n",
        "            print(f'{item} is an invalid password because it uses {letter} {count} times. {letter} can only be used between {count_low} and {count_high} times.')\n",
        "\n"
      ],
      "execution_count": null,
      "outputs": []
    },
    {
      "cell_type": "code",
      "metadata": {
        "id": "w2c7HXvvRt0u"
      },
      "source": [
        "pwd_validator(letter, words, count_low, count_high)"
      ],
      "execution_count": null,
      "outputs": []
    },
    {
      "cell_type": "markdown",
      "metadata": {
        "id": "HuShbdQLRdfy"
      },
      "source": [
        "[Day 3](https://adventofcode.com/2020/day/3)"
      ]
    },
    {
      "cell_type": "code",
      "metadata": {
        "id": "fnRG2uYRLxb8"
      },
      "source": [
        "# Create a random toboggan course with a 12 by 12 array repeated 10 times. \n",
        "# To use the example with . and #, just convert . to 0 and # to 1.\n",
        "nums = np.random.choice([0, 1], size=144, p=[.6, .4]).reshape(12,12)\n",
        "arr = np.resize(np.arange(0,2), 12*12)\n",
        "np.random.shuffle(arr)\n",
        "arr = arr.reshape(12,12)\n",
        "blocks = np.repeat(arr, 10, axis=1)\n"
      ],
      "execution_count": null,
      "outputs": []
    },
    {
      "cell_type": "code",
      "metadata": {
        "id": "z8rAJHZIOuul"
      },
      "source": [
        "# If 1's are trees and 0's are open slope, how many trees to you encounter moving in a pattern down one, right three?\n",
        "y = 0\n",
        "sum = 0\n",
        "for i in range(0, blocks.shape[0]-1):\n",
        "    x = i + 1\n",
        "    y = y + 3\n",
        "    if blocks[x,y] == 1:\n",
        "        sum += 1\n",
        "print(f'Your toboggan hits {sum} trees')"
      ],
      "execution_count": null,
      "outputs": []
    },
    {
      "cell_type": "markdown",
      "metadata": {
        "id": "TUDIw2hma9X6"
      },
      "source": [
        "**[DAY 4](https://adventofcode.com/2020/day/4)**"
      ]
    },
    {
      "cell_type": "code",
      "metadata": {
        "id": "IBT0ouj4a644"
      },
      "source": [
        "import re\n",
        "from google.colab import files\n",
        "\n",
        "uploaded = files.upload()\n",
        "\n",
        "for fn in uploaded.keys():\n",
        "  print('User uploaded file \"{name}\" with length {length} bytes'.format(\n",
        "      name=fn, length=len(uploaded[fn])))\n",
        "  input=uploaded[fn]"
      ],
      "execution_count": null,
      "outputs": []
    },
    {
      "cell_type": "code",
      "metadata": {
        "id": "qrBT-5YibKKu"
      },
      "source": [
        "input"
      ],
      "execution_count": null,
      "outputs": []
    },
    {
      "cell_type": "code",
      "metadata": {
        "id": "irlLtxrkbVYP"
      },
      "source": [
        "mod_input = str(input).replace('b\\'','').replace('\\'','').replace('\\\\n\\\\n',',').replace('\\\\n',' ').split(',')"
      ],
      "execution_count": null,
      "outputs": []
    },
    {
      "cell_type": "code",
      "metadata": {
        "id": "rZVKBsRbbn3p"
      },
      "source": [
        "mod_input"
      ],
      "execution_count": null,
      "outputs": []
    },
    {
      "cell_type": "code",
      "metadata": {
        "id": "rOkdSp37p1Il"
      },
      "source": [
        "key_dict = {'byr':'Birth Year', 'iyr': 'Issue Year', 'eyr':'Expiration Year', 'hgt': 'Height','hcl': 'Hair Color', \\\n",
        "            'ecl': 'Eye Color', 'pid':'Passport ID', 'cid': 'Country ID'}"
      ],
      "execution_count": null,
      "outputs": []
    },
    {
      "cell_type": "code",
      "metadata": {
        "id": "7NJd_kt8dFuJ"
      },
      "source": [
        "def passport_converter(input):\n",
        "    val_list = []\n",
        "    for i in input:\n",
        "        res = dict(item.split(\":\") for item in i.split(\" \")) \n",
        "        val_list.append(res)\n",
        "    return val_list\n",
        "\n",
        "def passport_validator(val_list):\n",
        "    for i in val_list:\n",
        "        try:\n",
        "            print(\"\\n\\n Validating...\")\n",
        "            print(f\"The passport information: \\\n",
        "            \\n DOB {i['byr']} \\\n",
        "            \\n Issued {i['iyr']} \\\n",
        "            \\n Expires {i['eyr']} \\\n",
        "            \\n Height {i['hgt']} \\\n",
        "            \\n Hair Color {i['hcl']} \\\n",
        "            \\n Eye Color {i['ecl']} \\\n",
        "            \\n Passport ID {i['pid']}\")\n",
        "\n",
        "            if int(i['eyr']) > 2020:\n",
        "                print(\"\\n This passport is valid\")\n",
        "            else:\n",
        "                print(int(i['eyr']))\n",
        "                print(f\"The passport expires in {i['eyr']} - it has expired\")\n",
        "        except KeyError as e:\n",
        "            key = e.args[0]\n",
        "            print(f\"\\n This passport is not valid, it is missing {key_dict[key]}\")\n"
      ],
      "execution_count": null,
      "outputs": []
    },
    {
      "cell_type": "code",
      "metadata": {
        "id": "MZcqgAArePqf"
      },
      "source": [
        "val_list = passport_converter(mod_input)\n",
        "passport_validator(val_list)"
      ],
      "execution_count": null,
      "outputs": []
    },
    {
      "cell_type": "code",
      "metadata": {
        "id": "xnRVYC6oeSRu"
      },
      "source": [
        ""
      ],
      "execution_count": null,
      "outputs": []
    }
  ]
}