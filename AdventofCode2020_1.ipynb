{
  "nbformat": 4,
  "nbformat_minor": 0,
  "metadata": {
    "colab": {
      "name": "AdventofCode2020-1.ipynb",
      "private_outputs": true,
      "provenance": [],
      "collapsed_sections": [],
      "authorship_tag": "ABX9TyP7CWIJesrrelZIlg+/vMbr",
      "include_colab_link": true
    },
    "kernelspec": {
      "name": "python3",
      "display_name": "Python 3"
    }
  },
  "cells": [
    {
      "cell_type": "markdown",
      "metadata": {
        "id": "view-in-github",
        "colab_type": "text"
      },
      "source": [
        "<a href=\"https://colab.research.google.com/github/lweislo/symmetrical-adventure/blob/main/AdventofCode2020_1.ipynb\" target=\"_parent\"><img src=\"https://colab.research.google.com/assets/colab-badge.svg\" alt=\"Open In Colab\"/></a>"
      ]
    },
    {
      "cell_type": "code",
      "metadata": {
        "id": "GKE54fCzOSgM"
      },
      "source": [
        "import numpy as np"
      ],
      "execution_count": null,
      "outputs": []
    },
    {
      "cell_type": "code",
      "metadata": {
        "id": "hF39yxa3OvpR"
      },
      "source": [
        "def find2020(expense, n, sum):\n",
        "\n",
        "    for item in range(0, n): \n",
        "        for next_item in range(item + 1, n): \n",
        "            if expense[item] + expense[next_item] == sum:\n",
        "                print(f'Sum of 2020 found with {expense[item]} + {expense[next_item]}')\n",
        "                print(f'Multiplied, this equals ' + str(expense[item] * expense[next_item]))\n",
        "      "
      ],
      "execution_count": null,
      "outputs": []
    },
    {
      "cell_type": "code",
      "metadata": {
        "id": "OjCEDsR1P__Z"
      },
      "source": [
        "sum = 2020\n",
        "expenses = np.random.randint(1, 2019, 100)\n",
        "n = len(expenses)"
      ],
      "execution_count": null,
      "outputs": []
    },
    {
      "cell_type": "code",
      "metadata": {
        "id": "_lunWFvcQZws"
      },
      "source": [
        "find2020(expenses, n, sum)"
      ],
      "execution_count": null,
      "outputs": []
    },
    {
      "cell_type": "code",
      "metadata": {
        "id": "5Wi7tpnMQcy6"
      },
      "source": [
        "import string\n",
        "import random\n",
        "\n",
        "letters = string.ascii_lowercase\n",
        "words = []\n",
        "for i in range(50):\n",
        "    words.append(''.join(random.choice(letters) for i in range(random.randint(16,35))))\n",
        "# Password rules\n",
        "letter = 's'\n",
        "count_low = 0\n",
        "count_high = 3"
      ],
      "execution_count": null,
      "outputs": []
    },
    {
      "cell_type": "code",
      "metadata": {
        "id": "-HX_AgmaQUMq"
      },
      "source": [
        "def pwd_validator(letter, words, count_low, count_high):\n",
        "    for item in words:\n",
        "        count = item.count(letter)\n",
        "        if count >= count_low and item.count(letter) <= count_high:\n",
        "            pass\n",
        "        else:\n",
        "            print(f'{item} is an invalid password because it uses {letter} {count} times. {letter} can only be used between {count_low} and {count_high} times.')\n",
        "\n"
      ],
      "execution_count": null,
      "outputs": []
    },
    {
      "cell_type": "code",
      "metadata": {
        "id": "w2c7HXvvRt0u"
      },
      "source": [
        "pwd_validator(letter, words, count_low, count_high)"
      ],
      "execution_count": null,
      "outputs": []
    },
    {
      "cell_type": "code",
      "metadata": {
        "id": "fnRG2uYRLxb8"
      },
      "source": [
        "block = np.random.choice([0, 1], size=144, p=[.6, .4]).reshape(12,12)\n",
        "blocks = np.repeat(block, 10, axis=1)\n",
        "blocks\n"
      ],
      "execution_count": null,
      "outputs": []
    },
    {
      "cell_type": "code",
      "metadata": {
        "id": "z8rAJHZIOuul"
      },
      "source": [
        "count = 0\n",
        "sum = 0\n",
        "for i in range(0, blocks.shape[0]-1):\n",
        "    x = i + 1\n",
        "    y = count + 3\n",
        "    count = y\n",
        "    if blocks[x,y] == 1:\n",
        "        sum += 1\n",
        "print(f'Your toboggan hits {sum} trees')"
      ],
      "execution_count": null,
      "outputs": []
    },
    {
      "cell_type": "code",
      "metadata": {
        "id": "SMD7NbymRLNt"
      },
      "source": [
        ""
      ],
      "execution_count": null,
      "outputs": []
    }
  ]
}